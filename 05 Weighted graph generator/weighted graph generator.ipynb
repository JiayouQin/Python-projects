{
 "cells": [
  {
   "cell_type": "code",
   "execution_count": null,
   "metadata": {},
   "outputs": [],
   "source": [
    "\"\"\"\n",
    "Weighted Graph generator\n",
    "Generate nodes and edges with weighted value\n",
    "use getweigt() function to get weight between two nodes\n",
    "and use getnearnodes() to get nodes near a node\n",
    "the weight and node's values are saved in a single dictionary variable called totale\n",
    "\"\"\"\n",
    "\n",
    "\n",
    "import matplotlib.pyplot as plt\n",
    "import networkx as nx\n",
    "import random\n",
    "\n",
    "G = nx.Graph()\n",
    "nodesname = \"sabcdefghijklmnopqrtuvwxyz\"\n",
    "nodes = 15 #nodes should be more than one and less than 26\n",
    "edgescarcity = 4 #density = 1: all nodes are connected, edge generation probablity = 1/scarcity\n",
    "\n",
    "for i in range (nodes):\n",
    "    for n in range(i+1):\n",
    "        if i != n and random.randint(1,edgescarcity) == 1: #node net density can be changed here\n",
    "            G.add_edge(nodesname[n], nodesname[i], weight=random.randint(0,20))\n",
    "plt.figure(figsize=(20,10))\n",
    "\n",
    "#elarge = [(u, v) for (u, v, d) in G.edges(data=True) if d[\"weight\"] > 0.5]\n",
    "total = [(u, v, d) for (u, v, d) in G.edges(data=True)]\n",
    "\n",
    "pos = nx.spring_layout(G)  # positions for all nodes\n",
    "\n",
    "# nodes\n",
    "nx.draw_networkx_nodes(G, pos, node_size=900)\n",
    "\n",
    "# edges\n",
    "nx.draw_networkx_edges(G, pos, edgelist=total, width=1)\n",
    "#nx.draw_networkx_edges(\n",
    "#    G, pos, edgelist=esmall, width=6, alpha=0.5, edge_color=\"b\", style=\"dashed\")\n",
    "\n",
    "# labels\n",
    "labels = nx.get_edge_attributes(G,'weight')\n",
    "nx.draw_networkx_labels(G, pos, font_size=25,edge_labels=labels, font_family=\"sans-serif\")\n",
    "nx.draw_networkx_edge_labels(G,pos,edge_labels=labels)\n",
    "\n",
    "plt.axis(\"off\")\n",
    "plt.show()\n",
    "\n",
    "#Functions to do tests\n",
    "def getweight(node1,node2): #input should be 2 strings, returns the integer value: weight between 2 nodes\n",
    "    node1 = str(node1)\n",
    "    node2 = str(node2)\n",
    "    print (node1,node2)\n",
    "    for (a,b,c) in total:\n",
    "        if a == node1 or a == node2:\n",
    "            if b == node1 or b == node2:\n",
    "                return (c[\"weight\"])\n",
    "            \n",
    "def getnearnodes(node): #input should be 2 strings, returns the integer value: weight between 2 nodes\n",
    "    node = str(node)\n",
    "    for (a,b,c) in total:\n",
    "        if a == node:\n",
    "            print (b)\n",
    "        elif b == node:\n",
    "            print (a)"
   ]
  },
  {
   "cell_type": "code",
   "execution_count": null,
   "metadata": {},
   "outputs": [],
   "source": [
    "print (total)"
   ]
  },
  {
   "cell_type": "code",
   "execution_count": null,
   "metadata": {},
   "outputs": [],
   "source": [
    "getnearnodes(\"s\")"
   ]
  },
  {
   "cell_type": "code",
   "execution_count": null,
   "metadata": {},
   "outputs": [],
   "source": []
  }
 ],
 "metadata": {
  "kernelspec": {
   "display_name": "Python 3",
   "language": "python",
   "name": "python3"
  },
  "language_info": {
   "codemirror_mode": {
    "name": "ipython",
    "version": 3
   },
   "file_extension": ".py",
   "mimetype": "text/x-python",
   "name": "python",
   "nbconvert_exporter": "python",
   "pygments_lexer": "ipython3",
   "version": "3.7.4"
  }
 },
 "nbformat": 4,
 "nbformat_minor": 2
}
