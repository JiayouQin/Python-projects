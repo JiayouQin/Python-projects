{
 "cells": [
  {
   "cell_type": "code",
   "execution_count": 66,
   "id": "d071c0a0",
   "metadata": {
    "scrolled": true
   },
   "outputs": [],
   "source": [
    "import matplotlib.pyplot as plt\n",
    "import matplotlib.lines as mlines\n",
    "\n",
    "\n",
    "class Node():\n",
    "    def __init__(self):\n",
    "        self.is_red = False\n",
    "        self.left = None\n",
    "        self.right = None\n",
    "        self.value = 0\n",
    "        \n",
    "    def get_height(self): #get branch height (including current node)\n",
    "        layers = [self]\n",
    "        layer_count = 0\n",
    "        while layers:\n",
    "            layer_count += 1\n",
    "            new_list = []\n",
    "            for node in layers:\n",
    "                if node.left:\n",
    "                    new_list.append(node.left)\n",
    "                if node.right:\n",
    "                    new_list.append(node.right)\n",
    "            layers = new_list\n",
    "        return layer_count\n",
    "    \n",
    "    def visualize(self,axis='off'):\n",
    "        figure, axes = plt.subplots(figsize=(8, 6), dpi=80)\n",
    "        height = self.get_height()\n",
    "        width_ = 2**(height-1)\n",
    "        width = 2 * width_ + 1\n",
    "        matrix = [[[]for x in range(width)] for y in range(height)]\n",
    "\n",
    "        matrix[0][width_] = head #put head in the middle position\n",
    "\n",
    "        for y in range(len(matrix)):\n",
    "            for x in range(len(matrix[y])):\n",
    "                node = matrix[y][x]\n",
    "                if node:\n",
    "                    x1, y1 = (1/width)*(x+0.5), 1-(1/height)*y-0.2\n",
    "                    axes.text(x1, y1, str(node.value),color='white',fontsize=FONT_SIZE,fontweight='bold')\n",
    "                    if node.left:\n",
    "                        matrix[y+1][x-1] = node.left\n",
    "                        x2,y2 = (1/width)*(x-0.5),1-(1/height)*(y+1)-0.2\n",
    "                        line = mlines.Line2D([x1,x2], [y1,y2],zorder= -1)\n",
    "                        axes.add_line(line)\n",
    "                    if node.right:\n",
    "                        matrix[y+1][x+1] = node.right\n",
    "                        x2,y2 = (1/width)*(x+1.5),1-(1/height)*(y+1)-0.2\n",
    "                        line = mlines.Line2D([x1,x2], [y1,y2],zorder= -1)\n",
    "                        axes.add_line(line)\n",
    "                        \n",
    "                    cc = plt.Circle(   ((1/width)*(x+0.5), 1-(1/height)*y-0.2 ), \n",
    "                                        1/width/2, \n",
    "                                        color=('r' if node.is_red else 'black' )) \n",
    "                    axes.set_aspect(1) \n",
    "                    axes.add_artist(cc,)\n",
    "\n",
    "\n",
    "        plt.axis(axis)\n",
    "        plt.show()\n",
    "\n",
    "        \n"
   ]
  },
  {
   "cell_type": "code",
   "execution_count": 69,
   "id": "83884e35",
   "metadata": {
    "scrolled": false
   },
   "outputs": [
    {
     "data": {
      "image/png": "[encoded data removed]",
      "text/plain": [
       "<Figure size 640x480 with 1 Axes>"
      ]
     },
     "metadata": {
      "needs_background": "light"
     },
     "output_type": "display_data"
    }
   ],
   "source": [
    "def create_empty_tree():\n",
    "    global head\n",
    "    head = Node()\n",
    "    head.left = Node()\n",
    "    head.right = Node()\n",
    "    head.left.left = Node()\n",
    "    head.left.is_red = True\n",
    "    head.left.right = Node()\n",
    "    \n",
    "create_empty_tree()\n",
    "\n",
    "\n",
    "FONT_SIZE = 15\n",
    "head.visualize()"
   ]
  },
  {
   "cell_type": "code",
   "execution_count": null,
   "id": "552e441c",
   "metadata": {
    "scrolled": true
   },
   "outputs": [],
   "source": [
    "\n",
    "\n"
   ]
  },
  {
   "cell_type": "code",
   "execution_count": null,
   "id": "96f79c35",
   "metadata": {
    "scrolled": true
   },
   "outputs": [],
   "source": []
  }
 ],
 "metadata": {
  "kernelspec": {
   "display_name": "Python 3",
   "language": "python",
   "name": "python3"
  },
  "language_info": {
   "codemirror_mode": {
    "name": "ipython",
    "version": 3
   },
   "file_extension": ".py",
   "mimetype": "text/x-python",
   "name": "python",
   "nbconvert_exporter": "python",
   "pygments_lexer": "ipython3",
   "version": "3.8.8"
  }
 },
 "nbformat": 4,
 "nbformat_minor": 5
}
